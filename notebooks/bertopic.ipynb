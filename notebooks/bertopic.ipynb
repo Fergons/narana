{
 "cells": [
  {
   "cell_type": "code",
   "execution_count": 38,
   "metadata": {},
   "outputs": [
    {
     "name": "stderr",
     "output_type": "stream",
     "text": [
      "100%|██████████| 455/455 [00:56<00:00,  8.10it/s]\n"
     ]
    }
   ],
   "source": [
    "from pathlib import Path\n",
    "import pandas as pd\n",
    "import numpy as np\n",
    "from tqdm import tqdm\n",
    "\n",
    "def load_docs_with_embeddings(\n",
    "    book_ids = None,\n",
    "    books_dir=Path(\"../data/books\"),\n",
    "    embeddings_dir=Path(\"../data/books/embeddings\")\n",
    "):\n",
    "    docs = []\n",
    "    doc_ids = []\n",
    "    embeddings = None\n",
    "    if book_ids is None:\n",
    "        book_ids = [embeddings_file.stem.split(\"_\")[0] for embeddings_file in embeddings_dir.glob(\"*.npy\")]\n",
    "\n",
    "    for book_id in tqdm(book_ids):\n",
    "        embeddings_file = embeddings_dir / f\"{book_id}_embeddings.npy\"\n",
    "        if not embeddings_file.exists():\n",
    "            print(f\"File {embeddings_file} not found\")\n",
    "            continue\n",
    "        \n",
    "        if embeddings is None:\n",
    "            embeddings = np.load(embeddings_file)\n",
    "        else:\n",
    "            _embeddings = np.load(embeddings_file)\n",
    "            embeddings = np.concatenate([embeddings, _embeddings])\n",
    "\n",
    "        metadata = pd.read_csv(embeddings_dir / f\"{book_id}_metadata.csv\")\n",
    "        try:\n",
    "\n",
    "\n",
    "            with open(books_dir / f\"{book_id}.txt\", \"r\", encoding=\"utf-8\") as f:\n",
    "                text = f.read()\n",
    "\n",
    "        except FileNotFoundError:\n",
    "            print(f\"File {book_id}.txt not found\")\n",
    "\n",
    "            continue\n",
    "\n",
    "        for k, meta_row in metadata.iterrows():\n",
    "            docs.append(text[meta_row[\"start_index\"]:meta_row[\"end_index\"]])\n",
    "            doc_ids.append(book_id)\n",
    "\n",
    "    return docs, doc_ids, embeddings\n",
    "\n",
    "docs, doc_ids, embeddings = load_docs_with_embeddings()\n"
   ]
  },
  {
   "cell_type": "code",
   "execution_count": 39,
   "metadata": {},
   "outputs": [],
   "source": [
    "from bertopic import BERTopic\n",
    "from bertopic.representation import PartOfSpeech\n",
    "\n",
    "# repr_model = PartOfSpeech()\n",
    "# topic_model = BERTopic(representation_model=repr_model, verbose=True)\n",
    "# topics, _ = topic_model.fit_transform(docs, embeddings=embeddings)\n",
    "# print(topics)\n",
    "# topic_model.save(\"topic_model.pkl\")\n",
    "topic_model = BERTopic.load(\"topic_model.pkl\")\n",
    "\n",
    "\n"
   ]
  },
  {
   "cell_type": "code",
   "execution_count": 7,
   "metadata": {},
   "outputs": [
    {
     "name": "stderr",
     "output_type": "stream",
     "text": [
      "2025-02-02 12:18:16,341 - BERTopic - WARNING: When you use `pickle` to save/load a BERTopic model,please make sure that the environments in which you saveand load the model are **exactly** the same. The version of BERTopic,its dependencies, and python need to remain the same.\n"
     ]
    }
   ],
   "source": [
    "topic_model.save(\"topic_model.pkl\")\n"
   ]
  },
  {
   "cell_type": "code",
   "execution_count": null,
   "metadata": {},
   "outputs": [
    {
     "name": "stdout",
     "output_type": "stream",
     "text": [
      "283955 283955\n"
     ]
    },
    {
     "name": "stderr",
     "output_type": "stream",
     "text": [
      "32it [26:50, 20.14s/it] "
     ]
    }
   ],
   "source": [
    "genre_csv = pd.read_csv(\"lit_goodreads_genre_filtered.csv\")\n",
    "book_genre_map = {book_id: genre_csv[genre_csv[\"title_id\"] == book_id][\"Trope\"].to_list()[0]  for book_id in set(doc_ids)}\n",
    "tropes = [book_genre_map[doc_id] for doc_id in doc_ids]\n",
    "\n",
    "# df = topic_model.get_topic_info()\n",
    "\n",
    "topics_per_class = topic_model.topics_per_class(docs, tropes)\n",
    "topic_model.visualize_topics_per_class(topics_per_class)    \n",
    "\n",
    "\n",
    "\n",
    "\n",
    "\n",
    "\n",
    "\n",
    "\n",
    "\n",
    "\n",
    "\n",
    "\n",
    "\n",
    "\n",
    "\n"
   ]
  }
 ],
 "metadata": {
  "kernelspec": {
   "display_name": ".venv",
   "language": "python",
   "name": "python3"
  },
  "language_info": {
   "codemirror_mode": {
    "name": "ipython",
    "version": 3
   },
   "file_extension": ".py",
   "mimetype": "text/x-python",
   "name": "python",
   "nbconvert_exporter": "python",
   "pygments_lexer": "ipython3",
   "version": "3.12.7"
  }
 },
 "nbformat": 4,
 "nbformat_minor": 2
}
