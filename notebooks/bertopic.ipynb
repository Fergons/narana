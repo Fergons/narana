{
 "cells": [
  {
   "cell_type": "code",
   "execution_count": 38,
   "metadata": {},
   "outputs": [
    {
     "name": "stderr",
     "output_type": "stream",
     "text": [
      "100%|██████████| 455/455 [00:56<00:00,  8.10it/s]\n"
     ]
    }
   ],
   "source": [
    "from pathlib import Path\n",
    "import pandas as pd\n",
    "import numpy as np\n",
    "from tqdm import tqdm\n",
    "\n",
    "def load_docs_with_embeddings(\n",
    "    book_ids = None,\n",
    "    books_dir=Path(\"../data/books\"),\n",
    "    embeddings_dir=Path(\"../data/books/embeddings\")\n",
    "):\n",
    "    docs = []\n",
    "    doc_ids = []\n",
    "    embeddings = None\n",
    "    if book_ids is None:\n",
    "        book_ids = [embeddings_file.stem.split(\"_\")[0] for embeddings_file in embeddings_dir.glob(\"*.npy\")]\n",
    "\n",
    "    for book_id in tqdm(book_ids):\n",
    "        embeddings_file = embeddings_dir / f\"{book_id}_embeddings.npy\"\n",
    "        if not embeddings_file.exists():\n",
    "            print(f\"File {embeddings_file} not found\")\n",
    "            continue\n",
    "        \n",
    "        if embeddings is None:\n",
    "            embeddings = np.load(embeddings_file)\n",
    "        else:\n",
    "            _embeddings = np.load(embeddings_file)\n",
    "            embeddings = np.concatenate([embeddings, _embeddings])\n",
    "\n",
    "        metadata = pd.read_csv(embeddings_dir / f\"{book_id}_metadata.csv\")\n",
    "        try:\n",
    "\n",
    "\n",
    "            with open(books_dir / f\"{book_id}.txt\", \"r\", encoding=\"utf-8\") as f:\n",
    "                text = f.read()\n",
    "\n",
    "        except FileNotFoundError:\n",
    "            print(f\"File {book_id}.txt not found\")\n",
    "\n",
    "            continue\n",
    "\n",
    "        for k, meta_row in metadata.iterrows():\n",
    "            docs.append(text[meta_row[\"start_index\"]:meta_row[\"end_index\"]])\n",
    "            doc_ids.append(book_id)\n",
    "\n",
    "    return docs, doc_ids, embeddings\n",
    "\n",
    "docs, doc_ids, embeddings = load_docs_with_embeddings()\n"
   ]
  },
  {
   "cell_type": "code",
   "execution_count": 39,
   "metadata": {},
   "outputs": [],
   "source": [
    "from bertopic import BERTopic\n",
    "from bertopic.representation import PartOfSpeech\n",
    "\n",
    "# repr_model = PartOfSpeech()\n",
    "# topic_model = BERTopic(representation_model=repr_model, verbose=True)\n",
    "# topics, _ = topic_model.fit_transform(docs, embeddings=embeddings)\n",
    "# print(topics)\n",
    "# topic_model.save(\"topic_model.pkl\")\n",
    "topic_model = BERTopic.load(\"topic_model.pkl\")\n",
    "\n",
    "\n"
   ]
  },
  {
   "cell_type": "code",
   "execution_count": 7,
   "metadata": {},
   "outputs": [
    {
     "name": "stderr",
     "output_type": "stream",
     "text": [
      "2025-02-02 12:18:16,341 - BERTopic - WARNING: When you use `pickle` to save/load a BERTopic model,please make sure that the environments in which you saveand load the model are **exactly** the same. The version of BERTopic,its dependencies, and python need to remain the same.\n"
     ]
    }
   ],
   "source": [
    "topic_model.save(\"topic_model.pkl\")\n"
   ]
  },
  {
   "cell_type": "code",
   "execution_count": 40,
   "metadata": {},
   "outputs": [
    {
     "name": "stdout",
     "output_type": "stream",
     "text": [
      "283955 283955\n"
     ]
    },
    {
     "name": "stderr",
     "output_type": "stream",
     "text": [
      "37it [32:30, 52.72s/it] \n"
     ]
    },
    {
     "data": {
      "application/vnd.plotly.v1+json": {
       "config": {
        "plotlyServerURL": "https://plot.ly"
       },
       "data": [
        {
         "hoverinfo": "text",
         "hovertext": [
          "<b>Topic 0</b><br>Words: monster, water, old, nonsense, path",
          "<b>Topic 0</b><br>Words: great, journey, treasure, food, terrible",
          "<b>Topic 0</b><br>Words: monkey, pig, sage, friar, demon",
          "<b>Topic 0</b><br>Words: staff, true, earth, brothers, bowl",
          "<b>Topic 0</b><br>Words: great, journey, treasure, food, terrible",
          "<b>Topic 0</b><br>Words: palace, emperor, horse, sun, kings",
          "<b>Topic 0</b><br>Words: monkey, spirit, golden, great, monsters",
          "<b>Topic 0</b><br>Words: king, local, food, pigs, sea",
          "<b>Topic 0</b><br>Words: demon, demons, monkeys, hall, flowers",
          "<b>Topic 0</b><br>Words: monks, monastery, palace, powers, magic",
          "<b>Topic 0</b><br>Words: monkey, bodhisattva, evil, priest, monster",
          "<b>Topic 0</b><br>Words: demon, monkeys, horse, clouds, dragons"
         ],
         "marker": {
          "color": "#E69F00"
         },
         "name": "0_monkey_pig_sage_friar",
         "orientation": "h",
         "type": "bar",
         "visible": true,
         "x": {
          "bdata": "AQABAGAIAQABAAIABgABAAEABAAOAAQA",
          "dtype": "i2"
         },
         "y": [
          "FilmNoir",
          "SpaceOpera",
          "Wuxia",
          "CosmicHorrorStory",
          "JungleOpera",
          "Xenofiction",
          "ComingOfAgeStory",
          "MusicStories",
          "SeaStories",
          "FairyTale",
          "AlternateHistory",
          "TheEpic"
         ]
        },
        {
         "hoverinfo": "text",
         "hovertext": [
          "<b>Topic 1</b><br>Words: evening, women, pay, mind, day",
          "<b>Topic 1</b><br>Words: madame, francs, order, fashion, monsieur",
          "<b>Topic 1</b><br>Words: same, sort, large, little, other",
          "<b>Topic 1</b><br>Words: order, evening, tone, women, young",
          "<b>Topic 1</b><br>Words: madame, francs, order, fashion, monsieur",
          "<b>Topic 1</b><br>Words: young, same, fellow, other, love",
          "<b>Topic 1</b><br>Words: madame, francs, order, fashion, monsieur",
          "<b>Topic 1</b><br>Words: women, young, other, present, man",
          "<b>Topic 1</b><br>Words: air, woman, time, more, word",
          "<b>Topic 1</b><br>Words: fashion, women, ladies, other, woman",
          "<b>Topic 1</b><br>Words: little, man, mind, close, great",
          "<b>Topic 1</b><br>Words: appearance, others, middle, state, business",
          "<b>Topic 1</b><br>Words: evening, tone, appearance, spite, women",
          "<b>Topic 1</b><br>Words: evening, midst, furniture, spite, bohemian",
          "<b>Topic 1</b><br>Words: fashion, evening, furniture, young, front",
          "<b>Topic 1</b><br>Words: tone, clerk, appearance, round, young",
          "<b>Topic 1</b><br>Words: madame, fashion, appearance, young, style",
          "<b>Topic 1</b><br>Words: evening, women, front, carriage, while",
          "<b>Topic 1</b><br>Words: order, young, front, little, side",
          "<b>Topic 1</b><br>Words: madame, entire, round, front, same"
         ],
         "marker": {
          "color": "#56B4E9"
         },
         "name": "1_madame_francs_order_fashion",
         "orientation": "h",
         "type": "bar",
         "visible": "legendonly",
         "x": {
          "bdata": "AgBuAgEABgBtAgEATQICAAEAAgACAAEAAgAEAAYABwAPAAUAAgAFAA==",
          "dtype": "i2"
         },
         "y": [
          "FilmNoir",
          "SpaceOpera",
          "CosmicHorrorStory",
          "HistoricalDetectiveFiction",
          "JungleOpera",
          "Xenofiction",
          "ComingOfAgeStory",
          "HistoricalFiction",
          "SlipstreamGenre",
          "PsychologicalThriller",
          "CriminalProcedural",
          "MusicStories",
          "SeaStories",
          "QueerRomance",
          "FairyTale",
          "AlternateHistory",
          "Cyberpunk",
          "TheEpic",
          "SexComedy",
          "NewWeird"
         ]
        },
        {
         "hoverinfo": "text",
         "hovertext": [
          "<b>Topic 2</b><br>Words: scout, rifle, savage, woods, warrior",
          "<b>Topic 2</b><br>Words: such, major, cover, men, stream",
          "<b>Topic 2</b><br>Words: scout, rifle, savage, woods, warrior",
          "<b>Topic 2</b><br>Words: enemy, cover, men, necessary, deliberate",
          "<b>Topic 2</b><br>Words: woods, tribe, enemies, enemy, forest",
          "<b>Topic 2</b><br>Words: scout, rifle, savage, woods, warrior",
          "<b>Topic 2</b><br>Words: savage, tomahawk, air, friend, place",
          "<b>Topic 2</b><br>Words: scout, manner, eye, distance, air",
          "<b>Topic 2</b><br>Words: low, bushes, words, moment, whole",
          "<b>Topic 2</b><br>Words: countenance, manner, trail, fort, wilderness",
          "<b>Topic 2</b><br>Words: silent, men, words, many, content"
         ],
         "marker": {
          "color": "#009E73"
         },
         "name": "2_scout_rifle_savage_woods",
         "orientation": "h",
         "type": "bar",
         "visible": "legendonly",
         "x": {
          "bdata": "LQIBACsCAgAEADACAgADAAIACAABAA==",
          "dtype": "i2"
         },
         "y": [
          "SpaceOpera",
          "HistoricalDetectiveFiction",
          "JungleOpera",
          "Xenofiction",
          "ComingOfAgeStory",
          "SeaStories",
          "FairyTale",
          "AlternateHistory",
          "Cyberpunk",
          "TheEpic",
          "NewWeird"
         ]
        },
        {
         "hoverinfo": "text",
         "hovertext": [
          "<b>Topic 3</b><br>Words: father, eyes, head, girl, mouth",
          "<b>Topic 3</b><br>Words: eyes, look, small, mother, road",
          "<b>Topic 3</b><br>Words: gold, face, help, warm, hand",
          "<b>Topic 3</b><br>Words: hair, girls, eyes, boy, doctor",
          "<b>Topic 3</b><br>Words: pater, tunic, tablet, wax, marble",
          "<b>Topic 3</b><br>Words: slave, boy, boat, doorway, wine",
          "<b>Topic 3</b><br>Words: water, eyes, head, ship, dark",
          "<b>Topic 3</b><br>Words: eyes, head, flute, brown, tears",
          "<b>Topic 3</b><br>Words: eyes, blue, breath, beach, road"
         ],
         "marker": {
          "color": "#F0E442"
         },
         "name": "3_pater_tunic_tablet_wax",
         "orientation": "h",
         "type": "bar",
         "visible": "legendonly",
         "x": {
          "bdata": "AQABAAEAAQAPBgIABAABAAIA",
          "dtype": "i2"
         },
         "y": [
          "SpaceOpera",
          "CosmicHorrorStory",
          "Xenofiction",
          "ComingOfAgeStory",
          "SeaStories",
          "QueerRomance",
          "AlternateHistory",
          "TheEpic",
          "NewWeird"
         ]
        },
        {
         "hoverinfo": "text",
         "hovertext": [
          "<b>Topic 4</b><br>Words: little, good, girl, sense, visit",
          "<b>Topic 4</b><br>Words: madame, countess, cousin, visitor, companion",
          "<b>Topic 4</b><br>Words: person, more, woman, only, matter",
          "<b>Topic 4</b><br>Words: madame, countess, cousin, visitor, companion",
          "<b>Topic 4</b><br>Words: very, afraid, young, person, much",
          "<b>Topic 4</b><br>Words: little, moment, girl, such, more",
          "<b>Topic 4</b><br>Words: manner, woman, love, part, other",
          "<b>Topic 4</b><br>Words: great, friend, moment, good, husbands",
          "<b>Topic 4</b><br>Words: afraid, husband, ones, poor, little",
          "<b>Topic 4</b><br>Words: deal, afraid, great, friend, lady",
          "<b>Topic 4</b><br>Words: husband, much, good, better, sense",
          "<b>Topic 4</b><br>Words: deal, friend, much, good, sense",
          "<b>Topic 4</b><br>Words: idea, less, interest, least, pleasant"
         ],
         "marker": {
          "color": "#D55E00"
         },
         "name": "4_madame_countess_cousin_visitor",
         "orientation": "h",
         "type": "bar",
         "visible": "legendonly",
         "x": {
          "bdata": "AQD3AgEA+gIDAAEAAQACAAIAAQAEAAMAAQA=",
          "dtype": "i2"
         },
         "y": [
          "FilmNoir",
          "SpaceOpera",
          "HistoricalDetectiveFiction",
          "JungleOpera",
          "ComingOfAgeStory",
          "HistoricalFiction",
          "GeniusThriller",
          "SeaStories",
          "QueerRomance",
          "FairyTale",
          "AlternateHistory",
          "TheEpic",
          "NewWeird"
         ]
        },
        {
         "hoverinfo": "text",
         "hovertext": [
          "<b>Topic 5</b><br>Words: voice, public, country, job, face",
          "<b>Topic 5</b><br>Words: voice, desk, smile, face, work",
          "<b>Topic 5</b><br>Words: steel, voice, job, face, telephone",
          "<b>Topic 5</b><br>Words: wish, sound, moment, years, engine",
          "<b>Topic 5</b><br>Words: transcontinental, railroad, metal, motor, steel",
          "<b>Topic 5</b><br>Words: matter, last, time, price, day",
          "<b>Topic 5</b><br>Words: metal, plane, job, face, kind"
         ],
         "marker": {
          "color": "#0072B2"
         },
         "name": "5_transcontinental_railroad_metal_motor",
         "orientation": "h",
         "type": "bar",
         "visible": "legendonly",
         "x": {
          "bdata": "AwABAAMAAQDzBQEAAgA=",
          "dtype": "i2"
         },
         "y": [
          "SpaceOpera",
          "CosmicHorrorStory",
          "Xenofiction",
          "HistoricalFiction",
          "AlternateHistory",
          "Cyberpunk",
          "NewWeird"
         ]
        },
        {
         "hoverinfo": "text",
         "hovertext": [
          "<b>Topic 6</b><br>Words: house, mind, dress, pleasant, dollars",
          "<b>Topic 6</b><br>Words: money, ladies, town, girls, house",
          "<b>Topic 6</b><br>Words: money, carriage, face, heart, mist",
          "<b>Topic 6</b><br>Words: money, ladies, town, girls, house",
          "<b>Topic 6</b><br>Words: money, baby, home, town, house",
          "<b>Topic 6</b><br>Words: ladies, war, old, boys, south",
          "<b>Topic 6</b><br>Words: war, old, child, pleasant, voice",
          "<b>Topic 6</b><br>Words: ter, war, baby, house, fer",
          "<b>Topic 6</b><br>Words: money, war, home, girls, women",
          "<b>Topic 6</b><br>Words: house, face, mind, say, new",
          "<b>Topic 6</b><br>Words: mammy, ter, butler, ain, prissy"
         ],
         "marker": {
          "color": "#CC79A7"
         },
         "name": "6_mammy_ter_butler_ain",
         "orientation": "h",
         "type": "bar",
         "visible": "legendonly",
         "x": {
          "bdata": "AQAEAAIABQAGAAQAAQABAAMAAQC6BQ==",
          "dtype": "i2"
         },
         "y": [
          "FilmNoir",
          "SpaceOpera",
          "CosmicHorrorStory",
          "JungleOpera",
          "Xenofiction",
          "ComingOfAgeStory",
          "QueerRomance",
          "FairyTale",
          "AlternateHistory",
          "Cyberpunk",
          "TheEpic"
         ]
        },
        {
         "hoverinfo": "text",
         "hovertext": [
          "<b>Topic 7</b><br>Words: cousin, brother, lord, bedchamber, chamber",
          "<b>Topic 7</b><br>Words: much, eyes, own, fool, man",
          "<b>Topic 7</b><br>Words: such, man, able, blood, word",
          "<b>Topic 7</b><br>Words: bed, fear, own, man, sure",
          "<b>Topic 7</b><br>Words: king, men, bed, death, years",
          "<b>Topic 7</b><br>Words: much, eyes, own, fool, man",
          "<b>Topic 7</b><br>Words: mouth, face, eyes, man, blood",
          "<b>Topic 7</b><br>Words: marguerite, cousin, brother, castle, lord",
          "<b>Topic 7</b><br>Words: brother, brothers, battle, mouth, years",
          "<b>Topic 7</b><br>Words: king, castle, battle, bed, truth",
          "<b>Topic 7</b><br>Words: eyes, sure, last, hair, word"
         ],
         "marker": {
          "color": "#E69F00"
         },
         "name": "7_marguerite_cousin_brother_castle",
         "orientation": "h",
         "type": "bar",
         "visible": "legendonly",
         "x": {
          "bdata": "AgACAAEAAQACAAIAAQClBQQABQABAA==",
          "dtype": "i2"
         },
         "y": [
          "MilitaryScienceFiction",
          "SpaceOpera",
          "CosmicHorrorStory",
          "TheWestern",
          "HistoricalDetectiveFiction",
          "JungleOpera",
          "Xenofiction",
          "ComingOfAgeStory",
          "HistoricalFiction",
          "AlternateHistory",
          "TheEpic"
         ]
        },
        {
         "hoverinfo": "text",
         "hovertext": [
          "<b>Topic 8</b><br>Words: estate, king, man, face, small",
          "<b>Topic 8</b><br>Words: children, men, woman, women, lap",
          "<b>Topic 8</b><br>Words: child, saint, father, husband, son",
          "<b>Topic 8</b><br>Words: church, father, children, mother, son",
          "<b>Topic 8</b><br>Words: kinsmen, sons, church, loft, maiden",
          "<b>Topic 8</b><br>Words: saint, arms, sorrow, man, face",
          "<b>Topic 8</b><br>Words: father, people, face, little, many",
          "<b>Topic 8</b><br>Words: father, bed, hearth, birth, pale",
          "<b>Topic 8</b><br>Words: church, children, bed, boy, young"
         ],
         "marker": {
          "color": "#56B4E9"
         },
         "name": "8_kinsmen_sons_church_loft",
         "orientation": "h",
         "type": "bar",
         "visible": "legendonly",
         "x": {
          "bdata": "AQABAAMAAwCiBQEAAQADAAMA",
          "dtype": "i2"
         },
         "y": [
          "SpaceOpera",
          "TheWestern",
          "HistoricalDetectiveFiction",
          "ComingOfAgeStory",
          "HistoricalFiction",
          "CriminalProcedural",
          "QueerRomance",
          "AlternateHistory",
          "TheEpic"
         ]
        },
        {
         "hoverinfo": "text",
         "hovertext": [
          "<b>Topic 9</b><br>Words: course, hand, sure, time, good",
          "<b>Topic 9</b><br>Words: men, night, man, question, evening",
          "<b>Topic 9</b><br>Words: lady, dear, young, case, fellow",
          "<b>Topic 9</b><br>Words: husband, object, sand, room, face",
          "<b>Topic 9</b><br>Words: young, fellow, smile, man, voice",
          "<b>Topic 9</b><br>Words: mummy, tomb, antiquities, pyramid, pyramids",
          "<b>Topic 9</b><br>Words: lady, dear, case, fellow, poor",
          "<b>Topic 9</b><br>Words: tomb, tombs, mummies, brother, young",
          "<b>Topic 9</b><br>Words: lady, professor, object, men, considerable",
          "<b>Topic 9</b><br>Words: case, course, men, pharaoh, one",
          "<b>Topic 9</b><br>Words: face, trifle, arm, man, voice",
          "<b>Topic 9</b><br>Words: lady, hotel, village, case, considerable",
          "<b>Topic 9</b><br>Words: husband, form, such, correct, course",
          "<b>Topic 9</b><br>Words: young, such, face, feet, by",
          "<b>Topic 9</b><br>Words: case, form, only, work, room",
          "<b>Topic 9</b><br>Words: lady, such, object, sand, several"
         ],
         "marker": {
          "color": "#009E73"
         },
         "name": "9_mummy_tomb_antiquities_pyramid",
         "orientation": "h",
         "type": "bar",
         "visible": "legendonly",
         "x": {
          "bdata": "AQABAAMAAwABAFgFAgAFAAIAAwACAAIACAACAAMAAwA=",
          "dtype": "i2"
         },
         "y": [
          "MilitaryScienceFiction",
          "FilmNoir",
          "SpaceOpera",
          "CosmicHorrorStory",
          "TheWestern",
          "HistoricalDetectiveFiction",
          "JungleOpera",
          "ComingOfAgeStory",
          "HistoricalFiction",
          "PsychologicalThriller",
          "QueerRomance",
          "FairyTale",
          "AlternateHistory",
          "Cyberpunk",
          "TheEpic",
          "NewWeird"
         ]
        }
       ],
       "layout": {
        "height": 900,
        "hoverlabel": {
         "bgcolor": "white",
         "font": {
          "family": "Rockwell",
          "size": 16
         }
        },
        "legend": {
         "title": {
          "text": "<b>Global Topic Representation"
         }
        },
        "template": {
         "data": {
          "bar": [
           {
            "error_x": {
             "color": "rgb(36,36,36)"
            },
            "error_y": {
             "color": "rgb(36,36,36)"
            },
            "marker": {
             "line": {
              "color": "white",
              "width": 0.5
             },
             "pattern": {
              "fillmode": "overlay",
              "size": 10,
              "solidity": 0.2
             }
            },
            "type": "bar"
           }
          ],
          "barpolar": [
           {
            "marker": {
             "line": {
              "color": "white",
              "width": 0.5
             },
             "pattern": {
              "fillmode": "overlay",
              "size": 10,
              "solidity": 0.2
             }
            },
            "type": "barpolar"
           }
          ],
          "carpet": [
           {
            "aaxis": {
             "endlinecolor": "rgb(36,36,36)",
             "gridcolor": "white",
             "linecolor": "white",
             "minorgridcolor": "white",
             "startlinecolor": "rgb(36,36,36)"
            },
            "baxis": {
             "endlinecolor": "rgb(36,36,36)",
             "gridcolor": "white",
             "linecolor": "white",
             "minorgridcolor": "white",
             "startlinecolor": "rgb(36,36,36)"
            },
            "type": "carpet"
           }
          ],
          "choropleth": [
           {
            "colorbar": {
             "outlinewidth": 1,
             "tickcolor": "rgb(36,36,36)",
             "ticks": "outside"
            },
            "type": "choropleth"
           }
          ],
          "contour": [
           {
            "colorbar": {
             "outlinewidth": 1,
             "tickcolor": "rgb(36,36,36)",
             "ticks": "outside"
            },
            "colorscale": [
             [
              0,
              "#440154"
             ],
             [
              0.1111111111111111,
              "#482878"
             ],
             [
              0.2222222222222222,
              "#3e4989"
             ],
             [
              0.3333333333333333,
              "#31688e"
             ],
             [
              0.4444444444444444,
              "#26828e"
             ],
             [
              0.5555555555555556,
              "#1f9e89"
             ],
             [
              0.6666666666666666,
              "#35b779"
             ],
             [
              0.7777777777777778,
              "#6ece58"
             ],
             [
              0.8888888888888888,
              "#b5de2b"
             ],
             [
              1,
              "#fde725"
             ]
            ],
            "type": "contour"
           }
          ],
          "contourcarpet": [
           {
            "colorbar": {
             "outlinewidth": 1,
             "tickcolor": "rgb(36,36,36)",
             "ticks": "outside"
            },
            "type": "contourcarpet"
           }
          ],
          "heatmap": [
           {
            "colorbar": {
             "outlinewidth": 1,
             "tickcolor": "rgb(36,36,36)",
             "ticks": "outside"
            },
            "colorscale": [
             [
              0,
              "#440154"
             ],
             [
              0.1111111111111111,
              "#482878"
             ],
             [
              0.2222222222222222,
              "#3e4989"
             ],
             [
              0.3333333333333333,
              "#31688e"
             ],
             [
              0.4444444444444444,
              "#26828e"
             ],
             [
              0.5555555555555556,
              "#1f9e89"
             ],
             [
              0.6666666666666666,
              "#35b779"
             ],
             [
              0.7777777777777778,
              "#6ece58"
             ],
             [
              0.8888888888888888,
              "#b5de2b"
             ],
             [
              1,
              "#fde725"
             ]
            ],
            "type": "heatmap"
           }
          ],
          "histogram": [
           {
            "marker": {
             "line": {
              "color": "white",
              "width": 0.6
             }
            },
            "type": "histogram"
           }
          ],
          "histogram2d": [
           {
            "colorbar": {
             "outlinewidth": 1,
             "tickcolor": "rgb(36,36,36)",
             "ticks": "outside"
            },
            "colorscale": [
             [
              0,
              "#440154"
             ],
             [
              0.1111111111111111,
              "#482878"
             ],
             [
              0.2222222222222222,
              "#3e4989"
             ],
             [
              0.3333333333333333,
              "#31688e"
             ],
             [
              0.4444444444444444,
              "#26828e"
             ],
             [
              0.5555555555555556,
              "#1f9e89"
             ],
             [
              0.6666666666666666,
              "#35b779"
             ],
             [
              0.7777777777777778,
              "#6ece58"
             ],
             [
              0.8888888888888888,
              "#b5de2b"
             ],
             [
              1,
              "#fde725"
             ]
            ],
            "type": "histogram2d"
           }
          ],
          "histogram2dcontour": [
           {
            "colorbar": {
             "outlinewidth": 1,
             "tickcolor": "rgb(36,36,36)",
             "ticks": "outside"
            },
            "colorscale": [
             [
              0,
              "#440154"
             ],
             [
              0.1111111111111111,
              "#482878"
             ],
             [
              0.2222222222222222,
              "#3e4989"
             ],
             [
              0.3333333333333333,
              "#31688e"
             ],
             [
              0.4444444444444444,
              "#26828e"
             ],
             [
              0.5555555555555556,
              "#1f9e89"
             ],
             [
              0.6666666666666666,
              "#35b779"
             ],
             [
              0.7777777777777778,
              "#6ece58"
             ],
             [
              0.8888888888888888,
              "#b5de2b"
             ],
             [
              1,
              "#fde725"
             ]
            ],
            "type": "histogram2dcontour"
           }
          ],
          "mesh3d": [
           {
            "colorbar": {
             "outlinewidth": 1,
             "tickcolor": "rgb(36,36,36)",
             "ticks": "outside"
            },
            "type": "mesh3d"
           }
          ],
          "parcoords": [
           {
            "line": {
             "colorbar": {
              "outlinewidth": 1,
              "tickcolor": "rgb(36,36,36)",
              "ticks": "outside"
             }
            },
            "type": "parcoords"
           }
          ],
          "pie": [
           {
            "automargin": true,
            "type": "pie"
           }
          ],
          "scatter": [
           {
            "fillpattern": {
             "fillmode": "overlay",
             "size": 10,
             "solidity": 0.2
            },
            "type": "scatter"
           }
          ],
          "scatter3d": [
           {
            "line": {
             "colorbar": {
              "outlinewidth": 1,
              "tickcolor": "rgb(36,36,36)",
              "ticks": "outside"
             }
            },
            "marker": {
             "colorbar": {
              "outlinewidth": 1,
              "tickcolor": "rgb(36,36,36)",
              "ticks": "outside"
             }
            },
            "type": "scatter3d"
           }
          ],
          "scattercarpet": [
           {
            "marker": {
             "colorbar": {
              "outlinewidth": 1,
              "tickcolor": "rgb(36,36,36)",
              "ticks": "outside"
             }
            },
            "type": "scattercarpet"
           }
          ],
          "scattergeo": [
           {
            "marker": {
             "colorbar": {
              "outlinewidth": 1,
              "tickcolor": "rgb(36,36,36)",
              "ticks": "outside"
             }
            },
            "type": "scattergeo"
           }
          ],
          "scattergl": [
           {
            "marker": {
             "colorbar": {
              "outlinewidth": 1,
              "tickcolor": "rgb(36,36,36)",
              "ticks": "outside"
             }
            },
            "type": "scattergl"
           }
          ],
          "scattermap": [
           {
            "marker": {
             "colorbar": {
              "outlinewidth": 1,
              "tickcolor": "rgb(36,36,36)",
              "ticks": "outside"
             }
            },
            "type": "scattermap"
           }
          ],
          "scattermapbox": [
           {
            "marker": {
             "colorbar": {
              "outlinewidth": 1,
              "tickcolor": "rgb(36,36,36)",
              "ticks": "outside"
             }
            },
            "type": "scattermapbox"
           }
          ],
          "scatterpolar": [
           {
            "marker": {
             "colorbar": {
              "outlinewidth": 1,
              "tickcolor": "rgb(36,36,36)",
              "ticks": "outside"
             }
            },
            "type": "scatterpolar"
           }
          ],
          "scatterpolargl": [
           {
            "marker": {
             "colorbar": {
              "outlinewidth": 1,
              "tickcolor": "rgb(36,36,36)",
              "ticks": "outside"
             }
            },
            "type": "scatterpolargl"
           }
          ],
          "scatterternary": [
           {
            "marker": {
             "colorbar": {
              "outlinewidth": 1,
              "tickcolor": "rgb(36,36,36)",
              "ticks": "outside"
             }
            },
            "type": "scatterternary"
           }
          ],
          "surface": [
           {
            "colorbar": {
             "outlinewidth": 1,
             "tickcolor": "rgb(36,36,36)",
             "ticks": "outside"
            },
            "colorscale": [
             [
              0,
              "#440154"
             ],
             [
              0.1111111111111111,
              "#482878"
             ],
             [
              0.2222222222222222,
              "#3e4989"
             ],
             [
              0.3333333333333333,
              "#31688e"
             ],
             [
              0.4444444444444444,
              "#26828e"
             ],
             [
              0.5555555555555556,
              "#1f9e89"
             ],
             [
              0.6666666666666666,
              "#35b779"
             ],
             [
              0.7777777777777778,
              "#6ece58"
             ],
             [
              0.8888888888888888,
              "#b5de2b"
             ],
             [
              1,
              "#fde725"
             ]
            ],
            "type": "surface"
           }
          ],
          "table": [
           {
            "cells": {
             "fill": {
              "color": "rgb(237,237,237)"
             },
             "line": {
              "color": "white"
             }
            },
            "header": {
             "fill": {
              "color": "rgb(217,217,217)"
             },
             "line": {
              "color": "white"
             }
            },
            "type": "table"
           }
          ]
         },
         "layout": {
          "annotationdefaults": {
           "arrowhead": 0,
           "arrowwidth": 1
          },
          "autotypenumbers": "strict",
          "coloraxis": {
           "colorbar": {
            "outlinewidth": 1,
            "tickcolor": "rgb(36,36,36)",
            "ticks": "outside"
           }
          },
          "colorscale": {
           "diverging": [
            [
             0,
             "rgb(103,0,31)"
            ],
            [
             0.1,
             "rgb(178,24,43)"
            ],
            [
             0.2,
             "rgb(214,96,77)"
            ],
            [
             0.3,
             "rgb(244,165,130)"
            ],
            [
             0.4,
             "rgb(253,219,199)"
            ],
            [
             0.5,
             "rgb(247,247,247)"
            ],
            [
             0.6,
             "rgb(209,229,240)"
            ],
            [
             0.7,
             "rgb(146,197,222)"
            ],
            [
             0.8,
             "rgb(67,147,195)"
            ],
            [
             0.9,
             "rgb(33,102,172)"
            ],
            [
             1,
             "rgb(5,48,97)"
            ]
           ],
           "sequential": [
            [
             0,
             "#440154"
            ],
            [
             0.1111111111111111,
             "#482878"
            ],
            [
             0.2222222222222222,
             "#3e4989"
            ],
            [
             0.3333333333333333,
             "#31688e"
            ],
            [
             0.4444444444444444,
             "#26828e"
            ],
            [
             0.5555555555555556,
             "#1f9e89"
            ],
            [
             0.6666666666666666,
             "#35b779"
            ],
            [
             0.7777777777777778,
             "#6ece58"
            ],
            [
             0.8888888888888888,
             "#b5de2b"
            ],
            [
             1,
             "#fde725"
            ]
           ],
           "sequentialminus": [
            [
             0,
             "#440154"
            ],
            [
             0.1111111111111111,
             "#482878"
            ],
            [
             0.2222222222222222,
             "#3e4989"
            ],
            [
             0.3333333333333333,
             "#31688e"
            ],
            [
             0.4444444444444444,
             "#26828e"
            ],
            [
             0.5555555555555556,
             "#1f9e89"
            ],
            [
             0.6666666666666666,
             "#35b779"
            ],
            [
             0.7777777777777778,
             "#6ece58"
            ],
            [
             0.8888888888888888,
             "#b5de2b"
            ],
            [
             1,
             "#fde725"
            ]
           ]
          },
          "colorway": [
           "#1F77B4",
           "#FF7F0E",
           "#2CA02C",
           "#D62728",
           "#9467BD",
           "#8C564B",
           "#E377C2",
           "#7F7F7F",
           "#BCBD22",
           "#17BECF"
          ],
          "font": {
           "color": "rgb(36,36,36)"
          },
          "geo": {
           "bgcolor": "white",
           "lakecolor": "white",
           "landcolor": "white",
           "showlakes": true,
           "showland": true,
           "subunitcolor": "white"
          },
          "hoverlabel": {
           "align": "left"
          },
          "hovermode": "closest",
          "mapbox": {
           "style": "light"
          },
          "paper_bgcolor": "white",
          "plot_bgcolor": "white",
          "polar": {
           "angularaxis": {
            "gridcolor": "rgb(232,232,232)",
            "linecolor": "rgb(36,36,36)",
            "showgrid": false,
            "showline": true,
            "ticks": "outside"
           },
           "bgcolor": "white",
           "radialaxis": {
            "gridcolor": "rgb(232,232,232)",
            "linecolor": "rgb(36,36,36)",
            "showgrid": false,
            "showline": true,
            "ticks": "outside"
           }
          },
          "scene": {
           "xaxis": {
            "backgroundcolor": "white",
            "gridcolor": "rgb(232,232,232)",
            "gridwidth": 2,
            "linecolor": "rgb(36,36,36)",
            "showbackground": true,
            "showgrid": false,
            "showline": true,
            "ticks": "outside",
            "zeroline": false,
            "zerolinecolor": "rgb(36,36,36)"
           },
           "yaxis": {
            "backgroundcolor": "white",
            "gridcolor": "rgb(232,232,232)",
            "gridwidth": 2,
            "linecolor": "rgb(36,36,36)",
            "showbackground": true,
            "showgrid": false,
            "showline": true,
            "ticks": "outside",
            "zeroline": false,
            "zerolinecolor": "rgb(36,36,36)"
           },
           "zaxis": {
            "backgroundcolor": "white",
            "gridcolor": "rgb(232,232,232)",
            "gridwidth": 2,
            "linecolor": "rgb(36,36,36)",
            "showbackground": true,
            "showgrid": false,
            "showline": true,
            "ticks": "outside",
            "zeroline": false,
            "zerolinecolor": "rgb(36,36,36)"
           }
          },
          "shapedefaults": {
           "fillcolor": "black",
           "line": {
            "width": 0
           },
           "opacity": 0.3
          },
          "ternary": {
           "aaxis": {
            "gridcolor": "rgb(232,232,232)",
            "linecolor": "rgb(36,36,36)",
            "showgrid": false,
            "showline": true,
            "ticks": "outside"
           },
           "baxis": {
            "gridcolor": "rgb(232,232,232)",
            "linecolor": "rgb(36,36,36)",
            "showgrid": false,
            "showline": true,
            "ticks": "outside"
           },
           "bgcolor": "white",
           "caxis": {
            "gridcolor": "rgb(232,232,232)",
            "linecolor": "rgb(36,36,36)",
            "showgrid": false,
            "showline": true,
            "ticks": "outside"
           }
          },
          "title": {
           "x": 0.05
          },
          "xaxis": {
           "automargin": true,
           "gridcolor": "rgb(232,232,232)",
           "linecolor": "rgb(36,36,36)",
           "showgrid": false,
           "showline": true,
           "ticks": "outside",
           "title": {
            "standoff": 15
           },
           "zeroline": false,
           "zerolinecolor": "rgb(36,36,36)"
          },
          "yaxis": {
           "automargin": true,
           "gridcolor": "rgb(232,232,232)",
           "linecolor": "rgb(36,36,36)",
           "showgrid": false,
           "showline": true,
           "ticks": "outside",
           "title": {
            "standoff": 15
           },
           "zeroline": false,
           "zerolinecolor": "rgb(36,36,36)"
          }
         }
        },
        "title": {
         "font": {
          "color": "Black",
          "size": 22
         },
         "text": "<b>Topics per Class</b>",
         "x": 0.4,
         "xanchor": "center",
         "y": 0.95,
         "yanchor": "top"
        },
        "width": 1250,
        "xaxis": {
         "showgrid": true,
         "title": {
          "text": "Frequency"
         }
        },
        "yaxis": {
         "showgrid": true,
         "title": {
          "text": "Class"
         }
        }
       }
      }
     },
     "metadata": {},
     "output_type": "display_data"
    }
   ],
   "source": [
    "genre_csv = pd.read_csv(\"lit_goodreads_genre_filtered.csv\")\n",
    "book_genre_map = {book_id: genre_csv[genre_csv[\"title_id\"] == book_id][\"Trope\"].to_list()[0]  for book_id in set(doc_ids)}\n",
    "tropes = [book_genre_map[doc_id] for doc_id in doc_ids]\n",
    "\n",
    "# df = topic_model.get_topic_info()\n",
    "\n",
    "topics_per_class = topic_model.topics_per_class(docs, tropes)\n",
    "topic_model.visualize_topics_per_class(topics_per_class)    \n",
    "\n",
    "\n",
    "\n",
    "\n",
    "\n",
    "\n",
    "\n",
    "\n",
    "\n",
    "\n",
    "\n",
    "\n",
    "\n",
    "\n",
    "\n"
   ]
  },
  {
   "cell_type": "code",
   "execution_count": 41,
   "metadata": {},
   "outputs": [
    {
     "data": {
      "text/html": [
       "<div>\n",
       "<style scoped>\n",
       "    .dataframe tbody tr th:only-of-type {\n",
       "        vertical-align: middle;\n",
       "    }\n",
       "\n",
       "    .dataframe tbody tr th {\n",
       "        vertical-align: top;\n",
       "    }\n",
       "\n",
       "    .dataframe thead th {\n",
       "        text-align: right;\n",
       "    }\n",
       "</style>\n",
       "<table border=\"1\" class=\"dataframe\">\n",
       "  <thead>\n",
       "    <tr style=\"text-align: right;\">\n",
       "      <th></th>\n",
       "      <th>Topic</th>\n",
       "      <th>Count</th>\n",
       "      <th>Name</th>\n",
       "      <th>Representation</th>\n",
       "      <th>Representative_Docs</th>\n",
       "    </tr>\n",
       "  </thead>\n",
       "  <tbody>\n",
       "    <tr>\n",
       "      <th>0</th>\n",
       "      <td>-1</td>\n",
       "      <td>51135</td>\n",
       "      <td>-1_chapter_one_more_man</td>\n",
       "      <td>[chapter, one, more, man, like, little, such, ...</td>\n",
       "      <td>[“Perhaps, sir,” said he, “you may want a litt...</td>\n",
       "    </tr>\n",
       "    <tr>\n",
       "      <th>1</th>\n",
       "      <td>0</td>\n",
       "      <td>2180</td>\n",
       "      <td>0_monkey_pig_sage_friar</td>\n",
       "      <td>[monkey, pig, sage, friar, demon, bodhisattva,...</td>\n",
       "      <td>[Everyone in Heaven and Earth knows that I am ...</td>\n",
       "    </tr>\n",
       "    <tr>\n",
       "      <th>2</th>\n",
       "      <td>1</td>\n",
       "      <td>1896</td>\n",
       "      <td>1_madame_francs_order_fashion</td>\n",
       "      <td>[madame, francs, order, fashion, monsieur, eve...</td>\n",
       "      <td>[Instead of bringing people to dine every day ...</td>\n",
       "    </tr>\n",
       "    <tr>\n",
       "      <th>3</th>\n",
       "      <td>2</td>\n",
       "      <td>1695</td>\n",
       "      <td>2_scout_rifle_savage_woods</td>\n",
       "      <td>[scout, rifle, savage, woods, warrior, chief, ...</td>\n",
       "      <td>[The Mingos know him better by the death he gi...</td>\n",
       "    </tr>\n",
       "    <tr>\n",
       "      <th>4</th>\n",
       "      <td>3</td>\n",
       "      <td>1564</td>\n",
       "      <td>3_pater_tunic_tablet_wax</td>\n",
       "      <td>[pater, tunic, tablet, wax, marble, slaves, pa...</td>\n",
       "      <td>[‘A bit of both, I suppose,’ said Jonathan, as...</td>\n",
       "    </tr>\n",
       "    <tr>\n",
       "      <th>...</th>\n",
       "      <td>...</td>\n",
       "      <td>...</td>\n",
       "      <td>...</td>\n",
       "      <td>...</td>\n",
       "      <td>...</td>\n",
       "    </tr>\n",
       "    <tr>\n",
       "      <th>2280</th>\n",
       "      <td>2279</td>\n",
       "      <td>10</td>\n",
       "      <td>2279_eventfulness_wordage_postscript_newborn</td>\n",
       "      <td>[eventfulness, wordage, postscript, newborn, m...</td>\n",
       "      <td>[Our gallant friend was dead. Next the Count p...</td>\n",
       "    </tr>\n",
       "    <tr>\n",
       "      <th>2281</th>\n",
       "      <td>2280</td>\n",
       "      <td>10</td>\n",
       "      <td>2280_raft_jezail_coffin_cholera</td>\n",
       "      <td>[raft, jezail, coffin, cholera, marksman, clif...</td>\n",
       "      <td>[As the sun rose and the morning mists smoked ...</td>\n",
       "    </tr>\n",
       "    <tr>\n",
       "      <th>2282</th>\n",
       "      <td>2281</td>\n",
       "      <td>10</td>\n",
       "      <td>2281_monsieur_hostler_cabaret_convent</td>\n",
       "      <td>[monsieur, hostler, cabaret, convent, horse, m...</td>\n",
       "      <td>[If not, I will apply to the chancellor, I wil...</td>\n",
       "    </tr>\n",
       "    <tr>\n",
       "      <th>2283</th>\n",
       "      <td>2282</td>\n",
       "      <td>10</td>\n",
       "      <td>2282_svartalves_paranoid_ballroom_defenses</td>\n",
       "      <td>[svartalves, paranoid, ballroom, defenses, cry...</td>\n",
       "      <td>[“Keep an eye out. If you see them sending the...</td>\n",
       "    </tr>\n",
       "    <tr>\n",
       "      <th>2284</th>\n",
       "      <td>2283</td>\n",
       "      <td>10</td>\n",
       "      <td>2283_folio_portmanteau_surgeon_connexions</td>\n",
       "      <td>[folio, portmanteau, surgeon, connexions, coug...</td>\n",
       "      <td>[In consequence of which, she got into a habit...</td>\n",
       "    </tr>\n",
       "  </tbody>\n",
       "</table>\n",
       "<p>2285 rows × 5 columns</p>\n",
       "</div>"
      ],
      "text/plain": [
       "      Topic  Count                                          Name  \\\n",
       "0        -1  51135                       -1_chapter_one_more_man   \n",
       "1         0   2180                       0_monkey_pig_sage_friar   \n",
       "2         1   1896                 1_madame_francs_order_fashion   \n",
       "3         2   1695                    2_scout_rifle_savage_woods   \n",
       "4         3   1564                      3_pater_tunic_tablet_wax   \n",
       "...     ...    ...                                           ...   \n",
       "2280   2279     10  2279_eventfulness_wordage_postscript_newborn   \n",
       "2281   2280     10               2280_raft_jezail_coffin_cholera   \n",
       "2282   2281     10         2281_monsieur_hostler_cabaret_convent   \n",
       "2283   2282     10    2282_svartalves_paranoid_ballroom_defenses   \n",
       "2284   2283     10     2283_folio_portmanteau_surgeon_connexions   \n",
       "\n",
       "                                         Representation  \\\n",
       "0     [chapter, one, more, man, like, little, such, ...   \n",
       "1     [monkey, pig, sage, friar, demon, bodhisattva,...   \n",
       "2     [madame, francs, order, fashion, monsieur, eve...   \n",
       "3     [scout, rifle, savage, woods, warrior, chief, ...   \n",
       "4     [pater, tunic, tablet, wax, marble, slaves, pa...   \n",
       "...                                                 ...   \n",
       "2280  [eventfulness, wordage, postscript, newborn, m...   \n",
       "2281  [raft, jezail, coffin, cholera, marksman, clif...   \n",
       "2282  [monsieur, hostler, cabaret, convent, horse, m...   \n",
       "2283  [svartalves, paranoid, ballroom, defenses, cry...   \n",
       "2284  [folio, portmanteau, surgeon, connexions, coug...   \n",
       "\n",
       "                                    Representative_Docs  \n",
       "0     [“Perhaps, sir,” said he, “you may want a litt...  \n",
       "1     [Everyone in Heaven and Earth knows that I am ...  \n",
       "2     [Instead of bringing people to dine every day ...  \n",
       "3     [The Mingos know him better by the death he gi...  \n",
       "4     [‘A bit of both, I suppose,’ said Jonathan, as...  \n",
       "...                                                 ...  \n",
       "2280  [Our gallant friend was dead. Next the Count p...  \n",
       "2281  [As the sun rose and the morning mists smoked ...  \n",
       "2282  [If not, I will apply to the chancellor, I wil...  \n",
       "2283  [“Keep an eye out. If you see them sending the...  \n",
       "2284  [In consequence of which, she got into a habit...  \n",
       "\n",
       "[2285 rows x 5 columns]"
      ]
     },
     "execution_count": 41,
     "metadata": {},
     "output_type": "execute_result"
    }
   ],
   "source": [
    "topic_model.get_topic_info()\n"
   ]
  },
  {
   "cell_type": "code",
   "execution_count": 47,
   "metadata": {},
   "outputs": [
    {
     "data": {
      "text/html": [
       "<div>\n",
       "<style scoped>\n",
       "    .dataframe tbody tr th:only-of-type {\n",
       "        vertical-align: middle;\n",
       "    }\n",
       "\n",
       "    .dataframe tbody tr th {\n",
       "        vertical-align: top;\n",
       "    }\n",
       "\n",
       "    .dataframe thead th {\n",
       "        text-align: right;\n",
       "    }\n",
       "</style>\n",
       "<table border=\"1\" class=\"dataframe\">\n",
       "  <thead>\n",
       "    <tr style=\"text-align: right;\">\n",
       "      <th></th>\n",
       "      <th>Document</th>\n",
       "      <th>Topic</th>\n",
       "      <th>Name</th>\n",
       "      <th>Representation</th>\n",
       "      <th>Representative_Docs</th>\n",
       "      <th>Top_n_words</th>\n",
       "      <th>Probability</th>\n",
       "      <th>Representative_document</th>\n",
       "    </tr>\n",
       "  </thead>\n",
       "  <tbody>\n",
       "    <tr>\n",
       "      <th>0</th>\n",
       "      <td>About the Author The author of two novels, Ho...</td>\n",
       "      <td>50</td>\n",
       "      <td>50_chapter_copyright_author_publishers</td>\n",
       "      <td>[chapter, copyright, author, publishers, publi...</td>\n",
       "      <td>[ALSO BY RAINBOW ROWELL LANDLINE FANGIRL ELEAN...</td>\n",
       "      <td>chapter - copyright - author - publishers - pu...</td>\n",
       "      <td>0.642400</td>\n",
       "      <td>False</td>\n",
       "    </tr>\n",
       "    <tr>\n",
       "      <th>1</th>\n",
       "      <td>I have no words I can rely on because, much to...</td>\n",
       "      <td>303</td>\n",
       "      <td>303_race_car_zebra_driver</td>\n",
       "      <td>[race, car, zebra, driver, racing, track, dog,...</td>\n",
       "      <td>[“Hold!” Denny turned around and placed his ha...</td>\n",
       "      <td>race - car - zebra - driver - racing - track -...</td>\n",
       "      <td>0.213414</td>\n",
       "      <td>False</td>\n",
       "    </tr>\n",
       "    <tr>\n",
       "      <th>2</th>\n",
       "      <td>I’ve seen it on TV. A documentary I saw about ...</td>\n",
       "      <td>303</td>\n",
       "      <td>303_race_car_zebra_driver</td>\n",
       "      <td>[race, car, zebra, driver, racing, track, dog,...</td>\n",
       "      <td>[“Hold!” Denny turned around and placed his ha...</td>\n",
       "      <td>race - car - zebra - driver - racing - track -...</td>\n",
       "      <td>0.576407</td>\n",
       "      <td>False</td>\n",
       "    </tr>\n",
       "    <tr>\n",
       "      <th>3</th>\n",
       "      <td>It takes humanlike willpower to hold back on t...</td>\n",
       "      <td>-1</td>\n",
       "      <td>-1_chapter_one_more_man</td>\n",
       "      <td>[chapter, one, more, man, like, little, such, ...</td>\n",
       "      <td>[“Perhaps, sir,” said he, “you may want a litt...</td>\n",
       "      <td>chapter - one - more - man - like - little - s...</td>\n",
       "      <td>0.000000</td>\n",
       "      <td>False</td>\n",
       "    </tr>\n",
       "    <tr>\n",
       "      <th>4</th>\n",
       "      <td>It’s cheap, and sometimes he takes a container...</td>\n",
       "      <td>-1</td>\n",
       "      <td>-1_chapter_one_more_man</td>\n",
       "      <td>[chapter, one, more, man, like, little, such, ...</td>\n",
       "      <td>[“Perhaps, sir,” said he, “you may want a litt...</td>\n",
       "      <td>chapter - one - more - man - like - little - s...</td>\n",
       "      <td>0.000000</td>\n",
       "      <td>False</td>\n",
       "    </tr>\n",
       "    <tr>\n",
       "      <th>...</th>\n",
       "      <td>...</td>\n",
       "      <td>...</td>\n",
       "      <td>...</td>\n",
       "      <td>...</td>\n",
       "      <td>...</td>\n",
       "      <td>...</td>\n",
       "      <td>...</td>\n",
       "      <td>...</td>\n",
       "    </tr>\n",
       "    <tr>\n",
       "      <th>283950</th>\n",
       "      <td>The doors were opened, and he went in stiffly,...</td>\n",
       "      <td>112</td>\n",
       "      <td>112_dragons_ferals_dragon_harness</td>\n",
       "      <td>[dragons, ferals, dragon, harness, covert, egg...</td>\n",
       "      <td>[Temeraire, if you have not seen our signal, a...</td>\n",
       "      <td>dragons - ferals - dragon - harness - covert -...</td>\n",
       "      <td>0.078469</td>\n",
       "      <td>False</td>\n",
       "    </tr>\n",
       "    <tr>\n",
       "      <th>283951</th>\n",
       "      <td>He had given his own personal assurances to th...</td>\n",
       "      <td>112</td>\n",
       "      <td>112_dragons_ferals_dragon_harness</td>\n",
       "      <td>[dragons, ferals, dragon, harness, covert, egg...</td>\n",
       "      <td>[Temeraire, if you have not seen our signal, a...</td>\n",
       "      <td>dragons - ferals - dragon - harness - covert -...</td>\n",
       "      <td>0.680578</td>\n",
       "      <td>False</td>\n",
       "    </tr>\n",
       "    <tr>\n",
       "      <th>283952</th>\n",
       "      <td>His captain, Richard Clark, was lying on a cot...</td>\n",
       "      <td>112</td>\n",
       "      <td>112_dragons_ferals_dragon_harness</td>\n",
       "      <td>[dragons, ferals, dragon, harness, covert, egg...</td>\n",
       "      <td>[Temeraire, if you have not seen our signal, a...</td>\n",
       "      <td>dragons - ferals - dragon - harness - covert -...</td>\n",
       "      <td>0.601261</td>\n",
       "      <td>False</td>\n",
       "    </tr>\n",
       "    <tr>\n",
       "      <th>283953</th>\n",
       "      <td>\"The surgeons think now it was the American dr...</td>\n",
       "      <td>112</td>\n",
       "      <td>112_dragons_ferals_dragon_harness</td>\n",
       "      <td>[dragons, ferals, dragon, harness, covert, egg...</td>\n",
       "      <td>[Temeraire, if you have not seen our signal, a...</td>\n",
       "      <td>dragons - ferals - dragon - harness - covert -...</td>\n",
       "      <td>0.576276</td>\n",
       "      <td>False</td>\n",
       "    </tr>\n",
       "    <tr>\n",
       "      <th>283954</th>\n",
       "      <td>It was a dreadful loss: she had been flying wi...</td>\n",
       "      <td>112</td>\n",
       "      <td>112_dragons_ferals_dragon_harness</td>\n",
       "      <td>[dragons, ferals, dragon, harness, covert, egg...</td>\n",
       "      <td>[Temeraire, if you have not seen our signal, a...</td>\n",
       "      <td>dragons - ferals - dragon - harness - covert -...</td>\n",
       "      <td>0.438935</td>\n",
       "      <td>False</td>\n",
       "    </tr>\n",
       "  </tbody>\n",
       "</table>\n",
       "<p>283955 rows × 8 columns</p>\n",
       "</div>"
      ],
      "text/plain": [
       "                                                 Document  Topic  \\\n",
       "0        About the Author The author of two novels, Ho...     50   \n",
       "1       I have no words I can rely on because, much to...    303   \n",
       "2       I’ve seen it on TV. A documentary I saw about ...    303   \n",
       "3       It takes humanlike willpower to hold back on t...     -1   \n",
       "4       It’s cheap, and sometimes he takes a container...     -1   \n",
       "...                                                   ...    ...   \n",
       "283950  The doors were opened, and he went in stiffly,...    112   \n",
       "283951  He had given his own personal assurances to th...    112   \n",
       "283952  His captain, Richard Clark, was lying on a cot...    112   \n",
       "283953  \"The surgeons think now it was the American dr...    112   \n",
       "283954  It was a dreadful loss: she had been flying wi...    112   \n",
       "\n",
       "                                          Name  \\\n",
       "0       50_chapter_copyright_author_publishers   \n",
       "1                    303_race_car_zebra_driver   \n",
       "2                    303_race_car_zebra_driver   \n",
       "3                      -1_chapter_one_more_man   \n",
       "4                      -1_chapter_one_more_man   \n",
       "...                                        ...   \n",
       "283950       112_dragons_ferals_dragon_harness   \n",
       "283951       112_dragons_ferals_dragon_harness   \n",
       "283952       112_dragons_ferals_dragon_harness   \n",
       "283953       112_dragons_ferals_dragon_harness   \n",
       "283954       112_dragons_ferals_dragon_harness   \n",
       "\n",
       "                                           Representation  \\\n",
       "0       [chapter, copyright, author, publishers, publi...   \n",
       "1       [race, car, zebra, driver, racing, track, dog,...   \n",
       "2       [race, car, zebra, driver, racing, track, dog,...   \n",
       "3       [chapter, one, more, man, like, little, such, ...   \n",
       "4       [chapter, one, more, man, like, little, such, ...   \n",
       "...                                                   ...   \n",
       "283950  [dragons, ferals, dragon, harness, covert, egg...   \n",
       "283951  [dragons, ferals, dragon, harness, covert, egg...   \n",
       "283952  [dragons, ferals, dragon, harness, covert, egg...   \n",
       "283953  [dragons, ferals, dragon, harness, covert, egg...   \n",
       "283954  [dragons, ferals, dragon, harness, covert, egg...   \n",
       "\n",
       "                                      Representative_Docs  \\\n",
       "0       [ALSO BY RAINBOW ROWELL LANDLINE FANGIRL ELEAN...   \n",
       "1       [“Hold!” Denny turned around and placed his ha...   \n",
       "2       [“Hold!” Denny turned around and placed his ha...   \n",
       "3       [“Perhaps, sir,” said he, “you may want a litt...   \n",
       "4       [“Perhaps, sir,” said he, “you may want a litt...   \n",
       "...                                                   ...   \n",
       "283950  [Temeraire, if you have not seen our signal, a...   \n",
       "283951  [Temeraire, if you have not seen our signal, a...   \n",
       "283952  [Temeraire, if you have not seen our signal, a...   \n",
       "283953  [Temeraire, if you have not seen our signal, a...   \n",
       "283954  [Temeraire, if you have not seen our signal, a...   \n",
       "\n",
       "                                              Top_n_words  Probability  \\\n",
       "0       chapter - copyright - author - publishers - pu...     0.642400   \n",
       "1       race - car - zebra - driver - racing - track -...     0.213414   \n",
       "2       race - car - zebra - driver - racing - track -...     0.576407   \n",
       "3       chapter - one - more - man - like - little - s...     0.000000   \n",
       "4       chapter - one - more - man - like - little - s...     0.000000   \n",
       "...                                                   ...          ...   \n",
       "283950  dragons - ferals - dragon - harness - covert -...     0.078469   \n",
       "283951  dragons - ferals - dragon - harness - covert -...     0.680578   \n",
       "283952  dragons - ferals - dragon - harness - covert -...     0.601261   \n",
       "283953  dragons - ferals - dragon - harness - covert -...     0.576276   \n",
       "283954  dragons - ferals - dragon - harness - covert -...     0.438935   \n",
       "\n",
       "        Representative_document  \n",
       "0                         False  \n",
       "1                         False  \n",
       "2                         False  \n",
       "3                         False  \n",
       "4                         False  \n",
       "...                         ...  \n",
       "283950                    False  \n",
       "283951                    False  \n",
       "283952                    False  \n",
       "283953                    False  \n",
       "283954                    False  \n",
       "\n",
       "[283955 rows x 8 columns]"
      ]
     },
     "execution_count": 47,
     "metadata": {},
     "output_type": "execute_result"
    }
   ],
   "source": [
    "topic_model.get_document_info(docs)\n"
   ]
  }
 ],
 "metadata": {
  "kernelspec": {
   "display_name": ".venv",
   "language": "python",
   "name": "python3"
  },
  "language_info": {
   "codemirror_mode": {
    "name": "ipython",
    "version": 3
   },
   "file_extension": ".py",
   "mimetype": "text/x-python",
   "name": "python",
   "nbconvert_exporter": "python",
   "pygments_lexer": "ipython3",
   "version": "3.12.7"
  }
 },
 "nbformat": 4,
 "nbformat_minor": 2
}
